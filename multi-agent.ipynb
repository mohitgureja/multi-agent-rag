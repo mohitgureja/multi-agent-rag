{
 "cells": [
  {
   "metadata": {},
   "cell_type": "markdown",
   "source": [
    "# Building a Multi-agent-RAG Bot for Specialized Question-Answering**\n",
    "\n",
    "The system starts with a **[Query Router](#query-routing-with-langgraph)**, which receives the user query and directs it to the appropriate agent based on the query type. The agents include:\n",
    "- **[CSV Agent](#csv-agent-handling-car-data)**: Handles car-related queries using structured data.\n",
    "- **[Markdown Agent](#markdown-agent-handling-country-data)**: Manages country-related queries using unstructured markdown data.\n",
    "- **[Math Agent](#math-agent-handling-mathematical-queries)**: Processes mathematical queries.\n",
    "- **[Fallback Handling](#out-of-scope-query-handling)**: If the query does not match any category, the system informs the user that the query is out of scope."
   ],
   "id": "f04cdffee071cf45"
  },
  {
   "metadata": {},
   "cell_type": "markdown",
   "source": [
    "Add *environment variables* to **.env** file:\n",
    "   - `GROQ_API_KEY=<Groq chat api key>`\n",
    "   - `LANGSMITH_TRACING=true` (Optional) To see and debug the trace of every agent\n",
    "   - `LANGSMITH_ENDPOINT=https://api.smith.langchain.com` (Optional)\n",
    "   - `LANGSMITH_API_KEY=<LangSmith API Key>` (Optional)\n",
    "   - `LANGSMITH_PROJECT=<Trace project>` (Optional)"
   ],
   "id": "358c32643c756f30"
  },
  {
   "metadata": {
    "ExecuteTime": {
     "end_time": "2025-03-30T15:35:05.233431Z",
     "start_time": "2025-03-30T15:33:22.508130Z"
    }
   },
   "cell_type": "code",
   "outputs": [],
   "execution_count": 2,
   "source": [
    "from dotenv import load_dotenv\n",
    "load_dotenv()\n",
    "\n",
    "COUNTRY_VECTOR_DB = \"./country_vector_db\"\n",
    "COUNTRY_COLLECTION = \"country_collection\"\n",
    "EMBEDDING_MODEL = \"sentence-transformers/all-mpnet-base-v2\"\n",
    "COUNTRY_DATA_MD = \"data/country_data.md\"\n",
    "CARS_DATASET_CSV = \"data/cars_dataset.csv\"\n",
    "MODEL_NAME = \"gemma2-9b-it\"\n",
    "CARS_TABLE = 'cars'\n",
    "CARS_DB = 'sqlite:///cars.db'"
   ],
   "id": "dac07ee03d60767"
  },
  {
   "metadata": {},
   "cell_type": "markdown",
   "source": "#### Define LangGraph State",
   "id": "3c762db11fff619c"
  },
  {
   "metadata": {
    "ExecuteTime": {
     "end_time": "2025-03-30T15:35:05.234814Z",
     "start_time": "2025-03-30T15:33:22.536240Z"
    }
   },
   "cell_type": "code",
   "source": [
    "from typing import Annotated, Literal, Sequence, Union\n",
    "from pydantic import BaseModel, Field\n",
    "from typing_extensions import TypedDict\n",
    "from langgraph.graph import END, StateGraph, START\n",
    "from langgraph.graph.message import AnyMessage, add_messages\n",
    "from langchain_core.messages import AIMessage, BaseMessage\n",
    "\n",
    "# Define the state for the agent\n",
    "class State(TypedDict):\n",
    "    messages: Annotated[Sequence[BaseMessage], add_messages]"
   ],
   "id": "98afcb0283595ee7",
   "outputs": [],
   "execution_count": 3
  },
  {
   "metadata": {},
   "cell_type": "markdown",
   "source": [
    "## **CSV Agent (Handling Car Data)**\n",
    "- The car data is structured, making it suitable for a **SQL-based retrieval approach**.\n",
    "- The agent utilizes **table schemas and sample data** to generate SQL queries dynamically.\n",
    "- A **SQL execution tool** retrieves answers based on these queries.\n",
    "- **Error Handling**: Implemented mechanisms to catch and suppress errors within the tool execution.\n",
    "- **Future Improvement**: Some columns, like `Description` and `Other Specifications`, contain unstructured text, making SQL-based querying insufficient. A **vector-based retriever** can be incorporated to improve performance, but this is beyond the current assignment scope."
   ],
   "id": "c32557e997d2f130"
  },
  {
   "metadata": {},
   "cell_type": "markdown",
   "source": "### Preprocessing (change to SQL Database)",
   "id": "9e8e84f97e0f3f8a"
  },
  {
   "metadata": {
    "ExecuteTime": {
     "end_time": "2025-03-30T15:33:34.935970Z",
     "start_time": "2025-03-30T15:33:23.849225Z"
    }
   },
   "cell_type": "code",
   "source": [
    "import pandas as pd\n",
    "df = pd.read_csv(CARS_DATASET_CSV)\n",
    "# Rename columns by replacing spaces with underscores\n",
    "df.columns = df.columns.str.replace(\" \", \"_\")\n",
    "df"
   ],
   "id": "5a83e3cccfb29e3",
   "outputs": [
    {
     "data": {
      "text/plain": [
       "                      Car_Name              Manufacturer  Launch_Year  \\\n",
       "0                OffDecision12                  Ross PLC         2017   \n",
       "1                ExistGround23                  Ross PLC         2017   \n",
       "2           SometimesHerself24                  Ross PLC         2021   \n",
       "3                  OffAround14                  Ross PLC         2006   \n",
       "4                  PriceIdea77                  Ross PLC         2002   \n",
       "...                        ...                       ...          ...   \n",
       "1995            ApproachWife68  Adams, Nelson and Taylor         2023   \n",
       "1996  Adams, Nelson and Taylor            ThoughNumber19         2021   \n",
       "1997  Adams, Nelson and Taylor             ProduceThis27         1999   \n",
       "1998          ConsiderSuffer61  Adams, Nelson and Taylor         2012   \n",
       "1999  Adams, Nelson and Taylor      DifferentPresident93         1997   \n",
       "\n",
       "                                            Description  \\\n",
       "0     Experience the fusion of style and performance...   \n",
       "1     The ExistGround23 by Ross PLC is a luxurious a...   \n",
       "2     The SometimesHerself24 by Ross PLC is a effici...   \n",
       "3     The OffAround14 by Ross PLC is a elegant and v...   \n",
       "4     Ross PLC presents the PriceIdea77, a efficient...   \n",
       "...                                                 ...   \n",
       "1995  Adams, Nelson and Taylor presents the Approach...   \n",
       "1996  ThoughNumber19 presents the Adams, Nelson and ...   \n",
       "1997  The Adams, Nelson and Taylor by ProduceThis27 ...   \n",
       "1998  Experience the fusion of style and performance...   \n",
       "1999  The Adams, Nelson and Taylor by DifferentPresi...   \n",
       "\n",
       "         Engine_Specifications                      Other_Specifications  \\\n",
       "0           I6, 253 HP, 1520cc          SUV, 10 km/l, 203 km/h top speed   \n",
       "1     Electric, 281 HP, 4515cc          SUV, 15 km/l, 238 km/h top speed   \n",
       "2           V8, 367 HP, 2351cc        Coupe, 15 km/l, 219 km/h top speed   \n",
       "3     Electric, 585 HP, 1464cc        Coupe, 12 km/l, 221 km/h top speed   \n",
       "4           V6, 422 HP, 1762cc     Hatchback, 6 km/l, 238 km/h top speed   \n",
       "...                        ...                                       ...   \n",
       "1995        V6, 324 HP, 2388cc        Coupe, 11 km/l, 113 km/h top speed   \n",
       "1996        I4, 307 HP, 3055cc   Convertible, 5 km/l, 119 km/h top speed   \n",
       "1997        V6, 211 HP, 4787cc  Convertible, 10 km/l, 176 km/h top speed   \n",
       "1998        V8, 273 HP, 4048cc          SUV, 11 km/l, 245 km/h top speed   \n",
       "1999        V6, 260 HP, 2939cc    Hatchback, 10 km/l, 247 km/h top speed   \n",
       "\n",
       "      User_Ratings  NCAP_Global_Rating  \n",
       "0              2.5                   4  \n",
       "1              2.1                   1  \n",
       "2              5.0                   1  \n",
       "3              1.7                   4  \n",
       "4              2.8                   2  \n",
       "...            ...                 ...  \n",
       "1995           2.8                   2  \n",
       "1996           1.7                   5  \n",
       "1997           2.9                   1  \n",
       "1998           1.0                   2  \n",
       "1999           4.4                   4  \n",
       "\n",
       "[2000 rows x 8 columns]"
      ],
      "text/html": [
       "<div>\n",
       "<style scoped>\n",
       "    .dataframe tbody tr th:only-of-type {\n",
       "        vertical-align: middle;\n",
       "    }\n",
       "\n",
       "    .dataframe tbody tr th {\n",
       "        vertical-align: top;\n",
       "    }\n",
       "\n",
       "    .dataframe thead th {\n",
       "        text-align: right;\n",
       "    }\n",
       "</style>\n",
       "<table border=\"1\" class=\"dataframe\">\n",
       "  <thead>\n",
       "    <tr style=\"text-align: right;\">\n",
       "      <th></th>\n",
       "      <th>Car_Name</th>\n",
       "      <th>Manufacturer</th>\n",
       "      <th>Launch_Year</th>\n",
       "      <th>Description</th>\n",
       "      <th>Engine_Specifications</th>\n",
       "      <th>Other_Specifications</th>\n",
       "      <th>User_Ratings</th>\n",
       "      <th>NCAP_Global_Rating</th>\n",
       "    </tr>\n",
       "  </thead>\n",
       "  <tbody>\n",
       "    <tr>\n",
       "      <th>0</th>\n",
       "      <td>OffDecision12</td>\n",
       "      <td>Ross PLC</td>\n",
       "      <td>2017</td>\n",
       "      <td>Experience the fusion of style and performance...</td>\n",
       "      <td>I6, 253 HP, 1520cc</td>\n",
       "      <td>SUV, 10 km/l, 203 km/h top speed</td>\n",
       "      <td>2.5</td>\n",
       "      <td>4</td>\n",
       "    </tr>\n",
       "    <tr>\n",
       "      <th>1</th>\n",
       "      <td>ExistGround23</td>\n",
       "      <td>Ross PLC</td>\n",
       "      <td>2017</td>\n",
       "      <td>The ExistGround23 by Ross PLC is a luxurious a...</td>\n",
       "      <td>Electric, 281 HP, 4515cc</td>\n",
       "      <td>SUV, 15 km/l, 238 km/h top speed</td>\n",
       "      <td>2.1</td>\n",
       "      <td>1</td>\n",
       "    </tr>\n",
       "    <tr>\n",
       "      <th>2</th>\n",
       "      <td>SometimesHerself24</td>\n",
       "      <td>Ross PLC</td>\n",
       "      <td>2021</td>\n",
       "      <td>The SometimesHerself24 by Ross PLC is a effici...</td>\n",
       "      <td>V8, 367 HP, 2351cc</td>\n",
       "      <td>Coupe, 15 km/l, 219 km/h top speed</td>\n",
       "      <td>5.0</td>\n",
       "      <td>1</td>\n",
       "    </tr>\n",
       "    <tr>\n",
       "      <th>3</th>\n",
       "      <td>OffAround14</td>\n",
       "      <td>Ross PLC</td>\n",
       "      <td>2006</td>\n",
       "      <td>The OffAround14 by Ross PLC is a elegant and v...</td>\n",
       "      <td>Electric, 585 HP, 1464cc</td>\n",
       "      <td>Coupe, 12 km/l, 221 km/h top speed</td>\n",
       "      <td>1.7</td>\n",
       "      <td>4</td>\n",
       "    </tr>\n",
       "    <tr>\n",
       "      <th>4</th>\n",
       "      <td>PriceIdea77</td>\n",
       "      <td>Ross PLC</td>\n",
       "      <td>2002</td>\n",
       "      <td>Ross PLC presents the PriceIdea77, a efficient...</td>\n",
       "      <td>V6, 422 HP, 1762cc</td>\n",
       "      <td>Hatchback, 6 km/l, 238 km/h top speed</td>\n",
       "      <td>2.8</td>\n",
       "      <td>2</td>\n",
       "    </tr>\n",
       "    <tr>\n",
       "      <th>...</th>\n",
       "      <td>...</td>\n",
       "      <td>...</td>\n",
       "      <td>...</td>\n",
       "      <td>...</td>\n",
       "      <td>...</td>\n",
       "      <td>...</td>\n",
       "      <td>...</td>\n",
       "      <td>...</td>\n",
       "    </tr>\n",
       "    <tr>\n",
       "      <th>1995</th>\n",
       "      <td>ApproachWife68</td>\n",
       "      <td>Adams, Nelson and Taylor</td>\n",
       "      <td>2023</td>\n",
       "      <td>Adams, Nelson and Taylor presents the Approach...</td>\n",
       "      <td>V6, 324 HP, 2388cc</td>\n",
       "      <td>Coupe, 11 km/l, 113 km/h top speed</td>\n",
       "      <td>2.8</td>\n",
       "      <td>2</td>\n",
       "    </tr>\n",
       "    <tr>\n",
       "      <th>1996</th>\n",
       "      <td>Adams, Nelson and Taylor</td>\n",
       "      <td>ThoughNumber19</td>\n",
       "      <td>2021</td>\n",
       "      <td>ThoughNumber19 presents the Adams, Nelson and ...</td>\n",
       "      <td>I4, 307 HP, 3055cc</td>\n",
       "      <td>Convertible, 5 km/l, 119 km/h top speed</td>\n",
       "      <td>1.7</td>\n",
       "      <td>5</td>\n",
       "    </tr>\n",
       "    <tr>\n",
       "      <th>1997</th>\n",
       "      <td>Adams, Nelson and Taylor</td>\n",
       "      <td>ProduceThis27</td>\n",
       "      <td>1999</td>\n",
       "      <td>The Adams, Nelson and Taylor by ProduceThis27 ...</td>\n",
       "      <td>V6, 211 HP, 4787cc</td>\n",
       "      <td>Convertible, 10 km/l, 176 km/h top speed</td>\n",
       "      <td>2.9</td>\n",
       "      <td>1</td>\n",
       "    </tr>\n",
       "    <tr>\n",
       "      <th>1998</th>\n",
       "      <td>ConsiderSuffer61</td>\n",
       "      <td>Adams, Nelson and Taylor</td>\n",
       "      <td>2012</td>\n",
       "      <td>Experience the fusion of style and performance...</td>\n",
       "      <td>V8, 273 HP, 4048cc</td>\n",
       "      <td>SUV, 11 km/l, 245 km/h top speed</td>\n",
       "      <td>1.0</td>\n",
       "      <td>2</td>\n",
       "    </tr>\n",
       "    <tr>\n",
       "      <th>1999</th>\n",
       "      <td>Adams, Nelson and Taylor</td>\n",
       "      <td>DifferentPresident93</td>\n",
       "      <td>1997</td>\n",
       "      <td>The Adams, Nelson and Taylor by DifferentPresi...</td>\n",
       "      <td>V6, 260 HP, 2939cc</td>\n",
       "      <td>Hatchback, 10 km/l, 247 km/h top speed</td>\n",
       "      <td>4.4</td>\n",
       "      <td>4</td>\n",
       "    </tr>\n",
       "  </tbody>\n",
       "</table>\n",
       "<p>2000 rows × 8 columns</p>\n",
       "</div>"
      ]
     },
     "execution_count": 4,
     "metadata": {},
     "output_type": "execute_result"
    }
   ],
   "execution_count": 4
  },
  {
   "metadata": {
    "ExecuteTime": {
     "end_time": "2025-03-30T15:33:35.135973Z",
     "start_time": "2025-03-30T15:33:34.961134Z"
    }
   },
   "cell_type": "code",
   "source": [
    "from langchain_community.utilities import SQLDatabase\n",
    "from sqlalchemy import create_engine\n",
    "\n",
    "engine = create_engine(CARS_DB)\n",
    "df.to_sql(CARS_TABLE, engine, if_exists='replace')\n",
    "db = SQLDatabase(engine=engine)\n",
    "print(\"Database dialect ->\", db.dialect)\n",
    "print(\"Tables -> :\", db.get_usable_table_names())"
   ],
   "id": "903fafbd226b21bf",
   "outputs": [
    {
     "name": "stdout",
     "output_type": "stream",
     "text": [
      "Database dialect -> sqlite\n",
      "Tables -> : ['cars']\n"
     ]
    }
   ],
   "execution_count": 5
  },
  {
   "metadata": {},
   "cell_type": "markdown",
   "source": "### Utility functions",
   "id": "ef76092049c3582f"
  },
  {
   "metadata": {
    "ExecuteTime": {
     "end_time": "2025-03-30T15:33:35.334958Z",
     "start_time": "2025-03-30T15:33:35.166250Z"
    }
   },
   "cell_type": "code",
   "source": [
    "from typing import Any\n",
    "\n",
    "from langchain_core.messages import ToolMessage\n",
    "from langchain_core.runnables import RunnableLambda, RunnableWithFallbacks\n",
    "from langgraph.prebuilt import ToolNode\n",
    "\n",
    "def create_tool_node_with_fallback(tools: list) -> RunnableWithFallbacks[Any, dict]:\n",
    "    \"\"\"\n",
    "    Create a ToolNode with a fallback to handle errors and surface them to the agent.\n",
    "    \"\"\"\n",
    "    return ToolNode(tools).with_fallbacks(\n",
    "        [RunnableLambda(handle_tool_error)], exception_key=\"error\"\n",
    "    )\n",
    "\n",
    "def handle_tool_error(state) -> dict:\n",
    "    error = state.get(\"error\")\n",
    "    tool_calls = state[\"messages\"][-1].tool_calls\n",
    "    return {\n",
    "        \"messages\": [\n",
    "            ToolMessage(\n",
    "                content=f\"Error: {repr(error)}\\n please fix your mistakes.\",\n",
    "                tool_call_id=tc[\"id\"],\n",
    "            )\n",
    "            for tc in tool_calls\n",
    "        ]\n",
    "    }"
   ],
   "id": "580367249520fc3d",
   "outputs": [],
   "execution_count": 6
  },
  {
   "metadata": {
    "ExecuteTime": {
     "end_time": "2025-03-30T15:33:35.708852Z",
     "start_time": "2025-03-30T15:33:35.456340Z"
    }
   },
   "cell_type": "code",
   "source": [
    "from langchain_community.agent_toolkits import SQLDatabaseToolkit\n",
    "from langchain.chat_models import init_chat_model\n",
    "\n",
    "llm = init_chat_model(MODEL_NAME, model_provider=\"groq\")\n",
    "\n",
    "toolkit = SQLDatabaseToolkit(db=db, llm=llm)\n",
    "tools = toolkit.get_tools()\n",
    "\n",
    "list_tables_tool = next(tool for tool in tools if tool.name == \"sql_db_list_tables\")\n",
    "get_schema_tool = next(tool for tool in tools if tool.name == \"sql_db_schema\")\n",
    "\n",
    "print(list_tables_tool.invoke(\"\"))\n",
    "print(get_schema_tool.invoke(\"cars\"))"
   ],
   "id": "7873797b6ec9f824",
   "outputs": [
    {
     "name": "stdout",
     "output_type": "stream",
     "text": [
      "cars\n",
      "\n",
      "CREATE TABLE cars (\n",
      "\t\"index\" BIGINT, \n",
      "\t\"Car_Name\" TEXT, \n",
      "\t\"Manufacturer\" TEXT, \n",
      "\t\"Launch_Year\" BIGINT, \n",
      "\t\"Description\" TEXT, \n",
      "\t\"Engine_Specifications\" TEXT, \n",
      "\t\"Other_Specifications\" TEXT, \n",
      "\t\"User_Ratings\" FLOAT, \n",
      "\t\"NCAP_Global_Rating\" BIGINT\n",
      ")\n",
      "\n",
      "/*\n",
      "3 rows from cars table:\n",
      "index\tCar_Name\tManufacturer\tLaunch_Year\tDescription\tEngine_Specifications\tOther_Specifications\tUser_Ratings\tNCAP_Global_Rating\n",
      "0\tOffDecision12\tRoss PLC\t2017\tExperience the fusion of style and performance with the OffDecision12 from Ross PLC. This elegant co\tI6, 253 HP, 1520cc\tSUV, 10 km/l, 203 km/h top speed\t2.5\t4\n",
      "1\tExistGround23\tRoss PLC\t2017\tThe ExistGround23 by Ross PLC is a luxurious and agile minivan. It features intuitive user interface\tElectric, 281 HP, 4515cc\tSUV, 15 km/l, 238 km/h top speed\t2.1\t1\n",
      "2\tSometimesHerself24\tRoss PLC\t2021\tThe SometimesHerself24 by Ross PLC is a efficient and robust coupe. It features unmatched reliabilit\tV8, 367 HP, 2351cc\tCoupe, 15 km/l, 219 km/h top speed\t5.0\t1\n",
      "*/\n"
     ]
    }
   ],
   "execution_count": 7
  },
  {
   "metadata": {},
   "cell_type": "markdown",
   "source": [
    "### Build Agent tools\n",
    "- Using Groq API with Llama3 models\n",
    "- Using SQLDatabaseToolkit from Langchain to use some already defined tools"
   ],
   "id": "959f8fd101dd3fd8"
  },
  {
   "metadata": {},
   "cell_type": "markdown",
   "source": "#### Tool '**db_query_tool**' to execute query against database and return results.",
   "id": "bfa7982e5085cdbb"
  },
  {
   "metadata": {
    "ExecuteTime": {
     "end_time": "2025-03-30T15:33:35.767787Z",
     "start_time": "2025-03-30T15:33:35.761157Z"
    }
   },
   "cell_type": "code",
   "outputs": [],
   "execution_count": 8,
   "source": [
    "from langchain_core.tools import tool\n",
    "\n",
    "@tool\n",
    "def db_query_tool(query: str):\n",
    "    \"\"\"\n",
    "    Execute a SQL query against the database and get back the result.\n",
    "    If the query is not correct, an error message will be returned.\n",
    "    If an error is returned, rewrite the query, check the query, and try again.\n",
    "    \"\"\"\n",
    "    result = db.run_no_throw(query)\n",
    "    if not result:\n",
    "        return \"Error: Query failed. Please rewrite your query and try again.\"\n",
    "    return result\n",
    "\n",
    "# print(db_query_tool.invoke(\"SELECT * FROM cars LIMIT 2;\"))"
   ],
   "id": "1c9191d9dc84ef07"
  },
  {
   "metadata": {},
   "cell_type": "markdown",
   "source": "#### Tool '**model_check_query**' to verify the query",
   "id": "4396b05f1b81b836"
  },
  {
   "metadata": {
    "ExecuteTime": {
     "end_time": "2025-03-30T15:33:35.857333Z",
     "start_time": "2025-03-30T15:33:35.797046Z"
    }
   },
   "cell_type": "code",
   "source": [
    "from langchain_core.prompts import ChatPromptTemplate\n",
    "from langchain.chat_models import init_chat_model\n",
    "\n",
    "query_check_llm = init_chat_model(MODEL_NAME, model_provider=\"groq\", temperature=0)\n",
    "query_check_system_prompt = \"\"\"\n",
    "You are a SQL expert with a strong attention to detail.\n",
    "Double check the SQLite query for common mistakes, including:\n",
    "- Using NOT IN with NULL values\n",
    "- Using UNION when UNION ALL should have been used\n",
    "- Using BETWEEN for exclusive ranges\n",
    "- Data type mismatch in predicates\n",
    "- Properly quoting identifiers\n",
    "- Using the correct number of arguments for functions\n",
    "- Casting to the correct data type\n",
    "- Using the proper columns for joins\n",
    "\n",
    "If there are any of the above mistakes, rewrite the query. If there are no mistakes, just reproduce the original query.\n",
    "\n",
    "You will call the appropriate tool to execute the query after running this check.\n",
    "\"\"\"\n",
    "\n",
    "query_check_prompt = ChatPromptTemplate.from_messages(\n",
    "    [(\"system\", query_check_system_prompt), (\"placeholder\", \"{messages}\")]\n",
    ")\n",
    "query_check_tool = query_check_prompt | query_check_llm.bind_tools(\n",
    "    [db_query_tool], tool_choice=\"required\"\n",
    ")\n",
    "\n",
    "def model_check_query(state) -> dict[str, list[BaseMessage]]:\n",
    "    \"\"\"\n",
    "    Use this tool to double-check if your query is correct before executing it.\n",
    "    \"\"\"\n",
    "    print(\" ------- Inside model_check_query ----- \")\n",
    "    response = query_check_tool.invoke({\"messages\": [(\"system\", state[\"messages\"][-1].content)]})\n",
    "    return {\"messages\": [response]}\n",
    "\n",
    "#query_check_tool.invoke({\"messages\": [(\"user\", \"Hello  SELECT * FROM cars LIMIT 10;\")]})"
   ],
   "id": "85565e2786c4f7e2",
   "outputs": [],
   "execution_count": 9
  },
  {
   "metadata": {},
   "cell_type": "markdown",
   "source": "#### Tool to get table schema",
   "id": "59ec926228eca637"
  },
  {
   "metadata": {
    "ExecuteTime": {
     "end_time": "2025-03-30T15:33:35.915119Z",
     "start_time": "2025-03-30T15:33:35.862271Z"
    }
   },
   "cell_type": "code",
   "source": [
    "from langchain.chat_models import init_chat_model\n",
    "# Add a node for a model to choose the relevant tables based on the question and available tables\n",
    "model_get_schema = init_chat_model(MODEL_NAME, model_provider=\"groq\", temperature=0).bind_tools(\n",
    "    [get_schema_tool]\n",
    ")"
   ],
   "id": "bbaa334ee4334ea",
   "outputs": [],
   "execution_count": 10
  },
  {
   "metadata": {},
   "cell_type": "markdown",
   "source": "#### Final answer node '**query_gen**'",
   "id": "6a6e3d9b193c115"
  },
  {
   "metadata": {
    "ExecuteTime": {
     "end_time": "2025-03-30T15:33:35.983146Z",
     "start_time": "2025-03-30T15:33:35.927023Z"
    }
   },
   "cell_type": "code",
   "source": [
    "# Describe a tool to represent the end state\n",
    "class SubmitFinalAnswer(BaseModel):\n",
    "    \"\"\"Submit the final answer to the user based on the query results.\"\"\"\n",
    "\n",
    "    final_answer: str = Field(..., description=\"The final answer to the user\")\n",
    "\n",
    "\n",
    "# Add a node for a model to generate a query based on the question and schema\n",
    "query_gen_system = \"\"\"You are a SQL expert with a strong attention to detail.\n",
    "Given an input question, generate a syntactically correct SQLite query to retrieve the answer.\n",
    "\n",
    "Query Generation Guidelines:\n",
    "Output only the SQL query—no extra text.\n",
    "If number of results are not mentioned in the question then limit them to 10.\n",
    "Order results meaningfully to return the most relevant examples.\n",
    "If an error occurs, rewrite and retry the query.\n",
    "If the result set is empty, modify the query to retrieve meaningful data.\n",
    "\n",
    "Execution Constraints:\n",
    "Never execute DML statements (INSERT, UPDATE, DELETE, DROP, etc.).\n",
    "If you receive a schema from sql_db_schema with only sample data, generate a query first before submitting a final answer.\n",
    "\n",
    "Tools:\n",
    "Your main aim is to generate a SQL query unless you have been provided with context data from your previous generated query execution.\n",
    "If you have enough context data dump provided by previous tool to answer the provided question, then you need to frame the final answer and invoke appropriate tool to submit the answer. But if you do not have any context data dump received from the database, and have not generated any SQL query either, do not invoke any tool at all, generate a SQL query.\n",
    "If after trying multiple times, sufficient data is still not available, state final answer as \"I don't have enough information to answer this question\", and call appropriate tool to submit this answer.\"\n",
    "\"\"\"\n",
    "\n",
    "query_gen_prompt = ChatPromptTemplate.from_messages(\n",
    "    [(\"system\", query_gen_system), (\"placeholder\", \"{messages}\")]\n",
    ")\n",
    "query_gen = query_gen_prompt | init_chat_model(MODEL_NAME, model_provider=\"groq\", temperature=0).bind_tools(\n",
    "    [SubmitFinalAnswer]\n",
    ")\n",
    "\n",
    "def query_gen_node(state: State):\n",
    "    print(\"-------- Query Gen / SubmitFinalAnswer -------------\")\n",
    "    message = query_gen.invoke(state)\n",
    "\n",
    "    # Sometimes, the LLM will hallucinate and call the wrong tool. We need to catch this and return an error message.\n",
    "    tool_messages = []\n",
    "    if message.tool_calls:\n",
    "        for tc in message.tool_calls:\n",
    "            if tc[\"name\"] != \"SubmitFinalAnswer\" :\n",
    "                tool_messages.append(\n",
    "                    ToolMessage(\n",
    "                        content=f\"Error: The wrong tool was called: {tc['name']}. Please fix your mistakes. Remember to only call SubmitFinalAnswer to submit the final answer. Generated queries should be outputted WITHOUT a tool call.\",\n",
    "                        tool_call_id=tc[\"id\"],\n",
    "                    )\n",
    "                )\n",
    "    else:\n",
    "        tool_messages = []\n",
    "\n",
    "    if \"final_answer\" in message:\n",
    "        return {\"messages\": [message[\"final_answer\"]]}\n",
    "    elif \"final_answer\" in message.content:\n",
    "        return {\"messages\": [message[\"content\"][\"final_answer\"]]}\n",
    "    return {\"messages\": [message] + tool_messages}\n",
    "\n",
    "# query_gen.invoke({\"messages\": [(\"user\", \"What are the latest cars launched?\")]})"
   ],
   "id": "d6c8d5446c097ee6",
   "outputs": [],
   "execution_count": 11
  },
  {
   "metadata": {},
   "cell_type": "markdown",
   "source": [
    "## **Markdown Agent (Handling Country Data)**\n",
    "- Uses the **docling** library to extract markdown files and convert them into structured chunks.\n",
    "- **Header paths** are preserved in each chunk to provide better contextual understanding.\n",
    "- A **similarity search** mechanism is applied to retrieve relevant chunks.\n",
    "- Retrieved documents serve as context for generating the final response.\n"
   ],
   "id": "8495f0a45d87c951"
  },
  {
   "metadata": {},
   "cell_type": "markdown",
   "source": "### Load Markdown Documents using *docling*",
   "id": "fce9c35c793c0814"
  },
  {
   "metadata": {
    "ExecuteTime": {
     "end_time": "2025-03-30T15:34:39.364066Z",
     "start_time": "2025-03-30T15:33:35.996753Z"
    }
   },
   "cell_type": "code",
   "source": [
    "from langchain_docling import DoclingLoader\n",
    "loader = DoclingLoader(file_path=COUNTRY_DATA_MD)\n",
    "docs = loader.load()\n",
    "# Each document split has header data associated with them\n",
    "print(docs[6].page_content)"
   ],
   "id": "dfa2e17a556d82e1",
   "outputs": [
    {
     "name": "stderr",
     "output_type": "stream",
     "text": [
      "/Users/ssdn/PycharmProjects/multi-agent-rag/.venv/lib/python3.11/site-packages/tqdm/auto.py:21: TqdmWarning: IProgress not found. Please update jupyter and ipywidgets. See https://ipywidgets.readthedocs.io/en/stable/user_install.html\n",
      "  from .autonotebook import tqdm as notebook_tqdm\n",
      "Token indices sequence length is longer than the specified maximum sequence length for this model (573 > 512). Running this sequence through the model will result in indexing errors\n"
     ]
    },
    {
     "name": "stdout",
     "output_type": "stream",
     "text": [
      "Country: London\n",
      "About the Country best play:\n",
      "In Milan, Valentine has fallen in love with the Duke's daughter, Silvia, who clearly prefers this suitor to the wealthy but foppish Thurio who her father intends she should marry. As soon as Proteus arrives, he too falls in love with Silvia. Determined to win her, and agonising only briefly about betraying both his friend and his lover, Proteus slyly tells the Duke that Valentine plans to elope with Silvia, using a corded ladder to rescue her from the tower room in which she is imprisoned each night. The Duke banishes Valentine. Wandering in the forest, Valentine runs into a band of outlaws, who elect him their leader. Valentine Rescuing Sylvia from Proteus by William Holman Hunt (1851)\n",
      "Back in Verona, Julia decides to join her lover in Milan and convinces her maid Lucetta to dress her in boy's clothes. On arrival in Milan, Julia discovers Proteus's love for Silvia and watches him serenade her. To learn more, she contrives to become his page boy, calling herself Sebastian. Proteus sends Julia/Sebastian to Silvia with a gift of a ring that Julia had given him before he left Verona. Silvia scorns Proteus's affections, repelled by his inconstancy to the lover he has left behind.\n",
      "In despair, Silvia flees into the forest, where she is quickly taken prisoner by the outlaws. They head to their new leader, Valentine, on the way encountering Proteus and Julia/Sebastian. Proteus rescues Silvia but, secretly observed by Valentine, continues to press his unwanted suit. When Proteus tells Silvia that he intends to force himself on her, Valentine intervenes.\n",
      "Proteus professes to be horrified by his own behaviour. Convinced that Proteus's repentance is genuine, Valentine forgives him and says \"All that was mine in Silvia I give thee\". At this point, overwhelmed, Julia swoons, revealing her true identity. Proteus suddenly recalls his love for her and vows fidelity once again.\n"
     ]
    }
   ],
   "execution_count": 12
  },
  {
   "metadata": {},
   "cell_type": "markdown",
   "source": "### Index documents in *Chroma* Vectorstore",
   "id": "d617962b340839a1"
  },
  {
   "metadata": {
    "ExecuteTime": {
     "end_time": "2025-03-30T15:35:01.995930Z",
     "start_time": "2025-03-30T15:34:39.409927Z"
    }
   },
   "cell_type": "code",
   "source": [
    "from langchain_huggingface import HuggingFaceEmbeddings\n",
    "from langchain_chroma import Chroma\n",
    "from langchain_core.documents import Document\n",
    "embeddings = HuggingFaceEmbeddings(model_name=EMBEDDING_MODEL)\n",
    "vector_store = Chroma(\n",
    "    collection_name=COUNTRY_COLLECTION,\n",
    "    embedding_function=embeddings,\n",
    "    persist_directory=COUNTRY_VECTOR_DB,  # Where to save data locally, remove if not necessary\n",
    ")\n",
    "vector_store.reset_collection()\n",
    "docs = [Document(doc.page_content) for doc in docs]\n",
    "vector_store.add_documents(docs)\n",
    "retriever = vector_store.as_retriever(search_kwargs={\"k\": 3})"
   ],
   "id": "35fd9f024e04b571",
   "outputs": [
    {
     "name": "stderr",
     "output_type": "stream",
     "text": [
      "huggingface/tokenizers: The current process just got forked, after parallelism has already been used. Disabling parallelism to avoid deadlocks...\n",
      "To disable this warning, you can either:\n",
      "\t- Avoid using `tokenizers` before the fork if possible\n",
      "\t- Explicitly set the environment variable TOKENIZERS_PARALLELISM=(true | false)\n"
     ]
    }
   ],
   "execution_count": 13
  },
  {
   "metadata": {},
   "cell_type": "markdown",
   "source": [
    "### Build Agent Tools\n",
    "#### Retriever tool '**retrieve_country_docs**'"
   ],
   "id": "112daccca03db2ea"
  },
  {
   "metadata": {
    "ExecuteTime": {
     "end_time": "2025-03-30T15:35:02.020548Z",
     "start_time": "2025-03-30T15:35:02.009606Z"
    }
   },
   "cell_type": "code",
   "source": [
    "from langchain.tools.retriever import create_retriever_tool\n",
    "\n",
    "retriever_tool = create_retriever_tool(\n",
    "    retriever,\n",
    "    \"retrieve_country_docs\",\n",
    "    \"Search and return information about countries and their famous plays.\",\n",
    ")\n",
    "# retriever.invoke(\"What country is London?\")"
   ],
   "id": "cd357f02e5c4ccc7",
   "outputs": [],
   "execution_count": 14
  },
  {
   "metadata": {},
   "cell_type": "markdown",
   "source": "#### Final answer tool '**find_answer_from_retriever**'",
   "id": "2634fc340899b79d"
  },
  {
   "metadata": {
    "ExecuteTime": {
     "end_time": "2025-03-30T15:35:02.045687Z",
     "start_time": "2025-03-30T15:35:02.041022Z"
    }
   },
   "cell_type": "code",
   "source": [
    "def find_answer_from_retriever(state):\n",
    "    \"\"\"\n",
    "    Determine the answer using the retriever tool.\n",
    "    :param state: (messages): The current state of the retriever.\n",
    "    :return: final answer from the retriever.\n",
    "    \"\"\"\n",
    "\n",
    "    # Add a node for a model to generate a query based on the question and schema\n",
    "    markdown_system = \"\"\"You are provided with documents related to countries and their best plays from 'retriever_tool'.\n",
    "    Here is the retrieved document: \\n\\n {context} \\n\\n\n",
    "    Given an input question, write an answer with the given documents.\n",
    "    Here is the user question: {question} \\n\n",
    "\n",
    "    DO NOT call any tool besides SubmitFinalAnswer to submit the final answer.\n",
    "    While generating the answer:\n",
    "\n",
    "    Give the answered tailored towards the documents without any tool call.\n",
    "\n",
    "    Unless the user specifies a specific information or examples they wish to obtain, always provide result precisely with the question.\n",
    "    NEVER make stuff up if you don't have enough information to answer the query... just say you don't have enough information.\n",
    "\n",
    "    If you have enough information to answer the input question, simply invoke the SubmitFinalAnswer tool to submit the final answer to the user.\n",
    "    \"\"\"\n",
    "    markdown_prompt = PromptTemplate(\n",
    "        template=markdown_system, input_variables=[\"context\", \"question\"]\n",
    "    )\n",
    "    llm_with_tool = init_chat_model(MODEL_NAME, model_provider=\"groq\", temperature=0).bind_tools([SubmitFinalAnswer])\n",
    "\n",
    "    markdown_gen = markdown_prompt | llm_with_tool\n",
    "\n",
    "    messages = state[\"messages\"]\n",
    "    last_message = messages[-1]\n",
    "\n",
    "    question = messages[0].content\n",
    "    docs = last_message.content\n",
    "    print(\" ------ Retrieve Docs ------\")\n",
    "    response = markdown_gen.invoke({\"question\": question, \"context\": docs})\n",
    "    if \"final_answer\" in response:\n",
    "        return {\"messages\": [response[\"final_answer\"]]}\n",
    "    return {\"messages\": [response]}"
   ],
   "id": "b50bd774b9c45a76",
   "outputs": [],
   "execution_count": 15
  },
  {
   "metadata": {},
   "cell_type": "markdown",
   "source": [
    "## **Math Agent (Handling Mathematical Queries)**\n",
    "- Agent computes mathematical results and verifies correctness before responding.\n",
    "- Uses a **Calculator** with Python's `numexpr` library to evaluate mathematical expressions.\n",
    "- Employs a **Math Assistant** that applies logical reasoning to verify results and suggest corrections.\n",
    "### Build Agent tools"
   ],
   "id": "610d8e6cd4096ec7"
  },
  {
   "metadata": {
    "ExecuteTime": {
     "end_time": "2025-03-30T15:35:02.101846Z",
     "start_time": "2025-03-30T15:35:02.092993Z"
    }
   },
   "cell_type": "code",
   "source": [
    "from langchain.chains import LLMMathChain, LLMChain\n",
    "\n",
    "\n",
    "# Add a node for the first tool call\n",
    "def math_agent_first_call(state: State) -> dict[str, list[BaseMessage]]:\n",
    "    print(\"-------- ROUTE MATH ASSISTANT ----------\")\n",
    "    tool_calls = state[\"messages\"][-1].tool_calls\n",
    "    return {\n",
    "        \"messages\": [\n",
    "            ToolMessage(\n",
    "                content=f\"\",\n",
    "                tool_call_id=tc[\"id\"],\n",
    "            )\n",
    "            for tc in tool_calls\n",
    "        ]\n",
    "    }"
   ],
   "id": "c8257311560fa894",
   "outputs": [],
   "execution_count": 16
  },
  {
   "metadata": {},
   "cell_type": "markdown",
   "source": "#### **Math Assistant** and **Calculator** tools",
   "id": "1051a81291f81276"
  },
  {
   "metadata": {
    "ExecuteTime": {
     "end_time": "2025-03-30T15:35:02.190469Z",
     "start_time": "2025-03-30T15:35:02.126786Z"
    }
   },
   "cell_type": "code",
   "source": [
    "llm = init_chat_model(MODEL_NAME, model_provider=\"groq\", temperature=0)\n",
    "\n",
    "math_assistant_prompt = \"\"\"You are a reasoning agent tasked with solving the user's logic-based questions.\n",
    "    Logically arrive at the solution, and be factual. In your answers, clearly detail the steps involved and give\n",
    "    the final answer. Provide the response in bullet points. Question  {question} Answer\"\"\"\n",
    "\n",
    "math_assistant_prompt_template = ChatPromptTemplate.from_messages(\n",
    "        [\n",
    "        (\"system\", math_assistant_prompt),\n",
    "        (\"human\", \"{question}\"),\n",
    "    ]\n",
    ")\n",
    "\n",
    "math_assistant_chain = math_assistant_prompt_template | llm\n",
    "from langchain_core.runnables import RunnableConfig\n",
    "@tool\n",
    "def math_assistant(state:State, config: RunnableConfig):\n",
    "    \"\"\"\n",
    "    Reasoning agent task for solving the user's logic-based questions.\n",
    "    Logically arrive at the solution, and be factual. In your answers, clearly detail the steps involved and give\n",
    "    the final answer.\n",
    "    \"\"\"\n",
    "    # last_message = state[\"messages\"][-1]\n",
    "    response = math_assistant_chain.invoke(state[\"messages\"], config)\n",
    "    return {\"messages\": [response]}\n",
    "\n",
    "import math\n",
    "from langchain_core.messages import BaseMessage\n",
    "from langchain_core.tools import tool\n",
    "from langgraph.graph import END, StateGraph\n",
    "from langgraph.prebuilt.tool_node import ToolNode\n",
    "import numexpr\n",
    "from langgraph.prebuilt import create_react_agent\n",
    "\n",
    "@tool\n",
    "def calculator(expression: str) -> str:\n",
    "    \"\"\"Calculate expression using Python's numexpr library.\n",
    "\n",
    "    Useful for when you need to answer numeric questions.\n",
    "    Expression should be a mathematical expression that solves the problem .\n",
    "    Only input math expressions, without text.\n",
    "\n",
    "    Examples:\n",
    "        \"37593 * 67\" for \"37593 times 67\"\n",
    "        \"37593**(1/5)\" for \"37593^(1/5)\"\n",
    "    \"\"\"\n",
    "    print(\"-------- ROUTE CALCULATOR ----------\")\n",
    "    local_dict = {\"pi\": math.pi, \"e\": math.e}\n",
    "    return str(\n",
    "        numexpr.evaluate(\n",
    "            expression.strip(),\n",
    "            global_dict={},  # restrict access to globals\n",
    "            local_dict=local_dict,  # add common mathematical functions\n",
    "        )\n",
    "    )\n",
    "tools = [calculator, math_assistant]"
   ],
   "id": "983fe7963d245669",
   "outputs": [],
   "execution_count": 17
  },
  {
   "metadata": {},
   "cell_type": "markdown",
   "source": "### **Math Agent**",
   "id": "7464943f76b5bf7f"
  },
  {
   "metadata": {
    "ExecuteTime": {
     "end_time": "2025-03-30T15:35:02.258121Z",
     "start_time": "2025-03-30T15:35:02.195124Z"
    }
   },
   "cell_type": "code",
   "source": [
    "model = init_chat_model(MODEL_NAME, model_provider=\"groq\", temperature=0).bind_tools([calculator, math_assistant])\n",
    "math_agent = create_react_agent(model, tools)\n",
    "# math_agent.invoke({\"messages\":[(\"human\", \"what is the value of magic_function(3)?\")]})"
   ],
   "id": "749c752afe3cdb9b",
   "outputs": [],
   "execution_count": 18
  },
  {
   "metadata": {},
   "cell_type": "markdown",
   "source": [
    "## **Query Routing with LangGraph**\n",
    "### Create a ***Question Routing Agent***"
   ],
   "id": "accc5d2866caadac"
  },
  {
   "metadata": {
    "ExecuteTime": {
     "end_time": "2025-03-30T15:35:02.348469Z",
     "start_time": "2025-03-30T15:35:02.285206Z"
    }
   },
   "cell_type": "code",
   "source": [
    "from typing import Literal\n",
    "\n",
    "from langchain_core.prompts import ChatPromptTemplate, PromptTemplate\n",
    "from langchain_groq import ChatGroq\n",
    "\n",
    "# First tool to end the routing\n",
    "def route_agent_end(state: State) -> dict[str, list[BaseMessage]]:\n",
    "    tool_calls = state[\"messages\"][-1].tool_calls\n",
    "    return {\n",
    "        \"messages\": [\n",
    "            ToolMessage(\n",
    "                content=f\"The system can't provide answer to this question.\",\n",
    "                tool_call_id=tc[\"id\"],\n",
    "            )\n",
    "            for tc in tool_calls\n",
    "        ]\n",
    "    }\n",
    "\n",
    "llm=ChatGroq(model_name=MODEL_NAME, temperature=0)\n",
    "agent_tools = [list_tables_tool, retriever_tool, math_agent_first_call, route_agent_end]\n",
    "llm_with_tools = llm.bind_tools(agent_tools)\n",
    "\n",
    "# Prompt\n",
    "system = \"\"\"You are an expert at routing a user question to 'retrieve_country_docs', 'sql_db_list_tables' or 'math_agent_first_call' and 'route_agent_end'.\n",
    "The 'retrieve_country_docs' contains documents related to countries and their best play.\n",
    "The 'sql_db_list_tables' contain database where they have information about different cars such as their Launch Year, Specifications, Top Speed, and descriptions.\n",
    "The 'math_agent_first_call' can solve any logical or simple mathematical problem.\n",
    "Use the 'retrieve_country_docs' for questions on countries. Otherwise for cars related questions, use 'sql_db_list_tables', and for mathematical problem use 'math_agent'.\n",
    "\n",
    "If question is not related to cars, math related problem, or about countries and their important plays, then please strictly call 'route_agent_end' tool and strictly end the flow by saying 'The system can't provide any answer to this question.'\"\"\"\n",
    "route_prompt = ChatPromptTemplate.from_messages(\n",
    "    [\n",
    "        (\"system\", system),\n",
    "        (\"human\", \"{question}\"),\n",
    "    ]\n",
    ")\n",
    "\n",
    "question_router = route_prompt | llm_with_tools\n",
    "\n",
    "def route_question(state):\n",
    "    \"\"\"\n",
    "    Route question to country_vectorstore or car_.\n",
    "\n",
    "    Args:`\n",
    "        state (dict): The current graph state\n",
    "\n",
    "    Returns:\n",
    "        str: Next node to call\n",
    "    \"\"\"\n",
    "    print(\"---ROUTE QUESTION---\")\n",
    "    messages = state[\"messages\"]\n",
    "    response = question_router.invoke(messages)\n",
    "    return {\"messages\": [response]}\n",
    "# print(question_router.invoke({\"question\": \"What is the sum of 2 and 7?\"}))"
   ],
   "id": "65dc43cb943a8d08",
   "outputs": [],
   "execution_count": 19
  },
  {
   "metadata": {},
   "cell_type": "markdown",
   "source": [
    "### Build a **workflow graph**\n",
    "#### Make nodes"
   ],
   "id": "3d6ab88c2b9066e7"
  },
  {
   "metadata": {
    "ExecuteTime": {
     "end_time": "2025-03-30T15:38:33.476423Z",
     "start_time": "2025-03-30T15:38:33.462689Z"
    }
   },
   "cell_type": "code",
   "source": [
    "from langgraph.prebuilt import tools_condition\n",
    "# Define a new graph\n",
    "workflow = StateGraph(State)\n",
    "\n",
    "# Add nodes for the agents\n",
    "\n",
    "# SQL Agent nodes\n",
    "workflow.add_node(\n",
    "    \"sql_db_list_tables\", create_tool_node_with_fallback([list_tables_tool])\n",
    ")\n",
    "workflow.add_node(\"get_schema_tool\", create_tool_node_with_fallback([get_schema_tool]))\n",
    "workflow.add_node(\n",
    "    \"model_get_schema\",\n",
    "    lambda state: {\n",
    "        \"messages\": [model_get_schema.invoke(state[\"messages\"])],\n",
    "    },\n",
    ")\n",
    "workflow.add_node(\"query_gen\", query_gen_node)\n",
    "workflow.add_node(\"model_check_query\", model_check_query)\n",
    "workflow.add_node(\"execute_query\", create_tool_node_with_fallback([db_query_tool]))\n",
    "\n",
    "# Markdown Agent nodes\n",
    "workflow.add_node(\"retrieve_country_docs\", create_tool_node_with_fallback([retriever_tool]))\n",
    "workflow.add_node(\"find_answer_from_retriever\", find_answer_from_retriever)\n",
    "\n",
    "# Math Agent nodes\n",
    "workflow.add_node(\"math_agent_first_call\", math_agent_first_call)\n",
    "workflow.add_node(\"math_agent\", math_agent )\n",
    "workflow.add_node(\"math_calculator\", create_tool_node_with_fallback([calculator]))\n",
    "workflow.add_node(\"math_assistant\", create_tool_node_with_fallback([math_assistant]))\n",
    "\n",
    "# Router node\n",
    "workflow.add_node(\"route_question\", route_question)\n",
    "workflow.add_node(\"route_end\", route_agent_end)\n"
   ],
   "id": "90f743b7b9ad3cfb",
   "outputs": [
    {
     "data": {
      "text/plain": [
       "<langgraph.graph.state.StateGraph at 0x32c8de950>"
      ]
     },
     "execution_count": 33,
     "metadata": {},
     "output_type": "execute_result"
    }
   ],
   "execution_count": 33
  },
  {
   "metadata": {},
   "cell_type": "markdown",
   "source": "#### Add edges for these nodes",
   "id": "561e8bdd0a089420"
  },
  {
   "metadata": {
    "ExecuteTime": {
     "end_time": "2025-03-30T15:38:35.018109Z",
     "start_time": "2025-03-30T15:38:35.001964Z"
    }
   },
   "cell_type": "code",
   "source": [
    "from typing import Union\n",
    "\n",
    "# Define a conditional edge to decide whether to continue or end the SQL Agent workflow\n",
    "def should_continue(state: State) -> Literal[END, \"model_check_query\", \"query_gen\"]:\n",
    "    messages = state[\"messages\"]\n",
    "    last_message = messages[-1]\n",
    "    # If there is a tool call, then we finish\n",
    "    if getattr(last_message, \"tool_calls\", None):\n",
    "        print(\" ---- Ending the graph --------\")\n",
    "        return END\n",
    "    if last_message.content.startswith(\"Error:\"):\n",
    "        print(\" ---- Regenerate the query --------\")\n",
    "        return \"query_gen\"\n",
    "    else:\n",
    "        print(\" ---- Verify Query ------\")\n",
    "        return \"model_check_query\"\n",
    "\n",
    "# Define a conditional edge to decide whether to continue or end the Markdown Agent workflow\n",
    "\n",
    "def should_continue_route(state: State) -> Union[Literal[\"retrieve_country_docs\", \"sql_db_list_tables\", \"math_agent_first_call\"], str]:\n",
    "    messages = state[\"messages\"]\n",
    "    last_message = messages[-1]\n",
    "    # If there is a tool call, then we finish\n",
    "    if last_message.tool_calls[0][\"name\"] == \"retrieve_country_docs\":\n",
    "        print(\"--------- ROUTE COUNTRY VECTORSTORE ------\")\n",
    "        return \"markdown_agent\"\n",
    "    elif last_message.tool_calls[0][\"name\"] == \"math_agent_first_call\":\n",
    "        print(\"--------- MATH AGENT ------\")\n",
    "        return \"math_agent\"\n",
    "    elif last_message.tool_calls[0][\"name\"] == \"sql_db_list_tables\":\n",
    "        print(\"--------- ROUTE SQL DATABASE ------\")\n",
    "        return \"csv_agent\"\n",
    "    else:\n",
    "        print(\"--------- END the graph --------\")\n",
    "        return \"end\"\n",
    "\n",
    "# Markdown vectorstore edges\n",
    "workflow.add_edge(START, \"route_question\")\n",
    "workflow.add_edge(\"retrieve_country_docs\", \"find_answer_from_retriever\")\n",
    "workflow.add_edge(\"find_answer_from_retriever\", END)\n",
    "\n",
    "# Math Agent edges\n",
    "workflow.add_edge(\"math_agent_first_call\", \"math_agent\")\n",
    "workflow.add_conditional_edges(\"math_agent\", tools_condition, {\n",
    "    \"math_calculator\": \"math_calculator\",\n",
    "    \"math_assistant\": \"math_assistant\",\n",
    "    END:END\n",
    "})\n",
    "\n",
    "# SQL Agent edges\n",
    "workflow.add_edge(\"sql_db_list_tables\", \"model_get_schema\")\n",
    "workflow.add_edge(\"model_get_schema\", \"get_schema_tool\")\n",
    "workflow.add_edge(\"get_schema_tool\", \"query_gen\")\n",
    "workflow.add_conditional_edges(\n",
    "    \"query_gen\",\n",
    "    should_continue,\n",
    ")\n",
    "workflow.add_edge(\"model_check_query\", \"execute_query\")\n",
    "workflow.add_edge(\"execute_query\", \"query_gen\")\n",
    "\n",
    "# Router edge\n",
    "workflow.add_conditional_edges(\"route_question\", should_continue_route,{\n",
    "    \"end\": \"route_end\",\n",
    "    \"csv_agent\": \"sql_db_list_tables\",\n",
    "    \"math_agent\": \"math_agent_first_call\",\n",
    "    \"markdown_agent\": \"retrieve_country_docs\"})\n",
    "workflow.add_edge(\"route_end\", END)\n",
    "# Compile the workflow into a runnable\n",
    "app = workflow.compile()"
   ],
   "id": "f32cbe4695609103",
   "outputs": [],
   "execution_count": 34
  },
  {
   "metadata": {},
   "cell_type": "markdown",
   "source": "#### Make Graph",
   "id": "68f30190ed95db3a"
  },
  {
   "metadata": {
    "ExecuteTime": {
     "end_time": "2025-03-30T15:38:36.984040Z",
     "start_time": "2025-03-30T15:38:36.870468Z"
    }
   },
   "cell_type": "code",
   "source": [
    "from IPython.display import Image, display\n",
    "from langchain_core.runnables.graph import MermaidDrawMethod\n",
    "\n",
    "image = Image(\n",
    "        app.get_graph().draw_mermaid_png(\n",
    "            draw_method=MermaidDrawMethod.API,\n",
    "        )\n",
    "    )\n",
    "# Save the image\n",
    "with open(\"./output_image.png\", \"wb\") as f:\n",
    "    f.write(image.data)\n",
    "display(image)"
   ],
   "id": "540e3f1f9fd83935",
   "outputs": [
    {
     "data": {
      "image/png": "[encoded data removed]",
      "text/plain": [
       "<IPython.core.display.Image object>"
      ]
     },
     "metadata": {},
     "output_type": "display_data"
    }
   ],
   "execution_count": 35
  },
  {
   "metadata": {},
   "cell_type": "markdown",
   "source": "# **Test Inference**",
   "id": "473efcf6180bc815"
  },
  {
   "metadata": {
    "ExecuteTime": {
     "end_time": "2025-03-30T15:38:39.445455Z",
     "start_time": "2025-03-30T15:38:39.441966Z"
    }
   },
   "cell_type": "code",
   "source": [
    "def invoke_query(question):\n",
    "    messages = app.invoke(\n",
    "    {\"messages\": [(\"human\", question)]},\n",
    "    )\n",
    "    last_message = messages[\"messages\"][-1]\n",
    "    if getattr(last_message,\"tool_calls\", None):\n",
    "        if last_message.tool_calls:\n",
    "            json_str = last_message.tool_calls[0][\"args\"][\"final_answer\"]\n",
    "        else:\n",
    "            json_str = last_message.content\n",
    "    else:\n",
    "        json_str = last_message.content\n",
    "    return json_str"
   ],
   "id": "8c7ad4be8809db3",
   "outputs": [],
   "execution_count": 36
  },
  {
   "metadata": {},
   "cell_type": "markdown",
   "source": "### Query to Markdown data",
   "id": "b3297df84c8e2725"
  },
  {
   "metadata": {
    "ExecuteTime": {
     "end_time": "2025-03-30T15:38:43.150854Z",
     "start_time": "2025-03-30T15:38:41.446285Z"
    }
   },
   "cell_type": "code",
   "source": [
    "question = \"Tell me about Paris, Can you also tell about their famous play?\"\n",
    "print(invoke_query(question))"
   ],
   "id": "d13896be876c1f74",
   "outputs": [
    {
     "name": "stdout",
     "output_type": "stream",
     "text": [
      "---ROUTE QUESTION---\n",
      "--------- ROUTE COUNTRY VECTORSTORE ------\n",
      " ------ Retrieve Docs ------\n",
      "Paris is the capital of Paris. Paris has a total area of 766045 square kilometers and a population of 85910809. Portuguese and English are the official languages spoken in the country. Many rivers flow through Paris. Paris's National Animal is the Giraffe and its National Bird is the Cardinal.  A famous play about Paris is  'The Merry Wives of Windsor' which involves a knight named Falstaff who tries to woo the wives of two wealthy citizens, but they trick him into hiding in a laundry basket and then as a fat woman. \n"
     ]
    }
   ],
   "execution_count": 37
  },
  {
   "metadata": {},
   "cell_type": "markdown",
   "source": "### Query to CSV/SQL data",
   "id": "7585e2961ed7ecee"
  },
  {
   "metadata": {
    "ExecuteTime": {
     "end_time": "2025-03-30T15:39:59.091286Z",
     "start_time": "2025-03-30T15:39:30.020035Z"
    }
   },
   "cell_type": "code",
   "source": [
    "question = \"Tell the name of around 20 cars that were launched in 2025?\"\n",
    "print(invoke_query(question))"
   ],
   "id": "ccd5c936874e0538",
   "outputs": [
    {
     "name": "stdout",
     "output_type": "stream",
     "text": [
      "---ROUTE QUESTION---\n",
      "--------- ROUTE SQL DATABASE ------\n",
      "-------- Query Gen / SubmitFinalAnswer -------------\n",
      " ---- Verify Query ------\n",
      " ------- Inside model_check_query ----- \n",
      "-------- Query Gen / SubmitFinalAnswer -------------\n",
      " ---- Ending the graph --------\n",
      "Here are some car names launched in 2025: OffDecision12, ExistGround23, SometimesHerself24, OffAround14, PriceIdea77, IndicateEarly62, FactSubject78, EverConsumer37, SpaceBillion33, OrganizationHope46, IssueAnything17, PushNight34.\n"
     ]
    }
   ],
   "execution_count": 41
  },
  {
   "metadata": {},
   "cell_type": "markdown",
   "source": [
    "#### Agent stream struggling to find the answer from **unstructured text** of a **csv Column**.\n",
    "Here benefitial would be combining a retriever tool with sql agent so that results can be combiation of similarity search and sql results."
   ],
   "id": "ca19dbf4509a42ab"
  },
  {
   "metadata": {
    "ExecuteTime": {
     "end_time": "2025-03-30T15:39:17.102502Z",
     "start_time": "2025-03-30T15:39:14.583880Z"
    }
   },
   "cell_type": "code",
   "source": [
    "question = \"What is the top speed of vehicles?\"\n",
    "for event in app.stream(\n",
    "    {\"messages\": [(\"human\", question)]},\n",
    "    ):\n",
    "    print(event)"
   ],
   "id": "5e5fa16cf8eec671",
   "outputs": [
    {
     "name": "stdout",
     "output_type": "stream",
     "text": [
      "---ROUTE QUESTION---\n",
      "--------- ROUTE SQL DATABASE ------\n",
      "{'route_question': {'messages': [AIMessage(content='', additional_kwargs={'tool_calls': [{'id': 'call_ymxe', 'function': {'arguments': '{\"tool_input\":\"\"}', 'name': 'sql_db_list_tables'}, 'type': 'function'}]}, response_metadata={'token_usage': {'completion_tokens': 84, 'prompt_tokens': 2345, 'total_tokens': 2429, 'completion_time': 0.152727273, 'prompt_time': 0.080048278, 'queue_time': 0.162031291, 'total_time': 0.232775551}, 'model_name': 'gemma2-9b-it', 'system_fingerprint': 'fp_10c08bf97d', 'finish_reason': 'tool_calls', 'logprobs': None}, id='run-1d176371-910e-4208-8c07-1610fb5bd695-0', tool_calls=[{'name': 'sql_db_list_tables', 'args': {'tool_input': ''}, 'id': 'call_ymxe', 'type': 'tool_call'}], usage_metadata={'input_tokens': 2345, 'output_tokens': 84, 'total_tokens': 2429})]}}\n",
      "{'sql_db_list_tables': {'messages': [ToolMessage(content='cars', name='sql_db_list_tables', id='65e8bad5-52cc-4b4d-b5b6-416c6fe83ab3', tool_call_id='call_ymxe')]}}\n",
      "{'model_get_schema': {'messages': [AIMessage(content='', additional_kwargs={'tool_calls': [{'id': 'call_2xer', 'function': {'arguments': '{\"table_names\":\"cars\"}', 'name': 'sql_db_schema'}, 'type': 'function'}]}, response_metadata={'token_usage': {'completion_tokens': 46, 'prompt_tokens': 1110, 'total_tokens': 1156, 'completion_time': 0.083636364, 'prompt_time': 0.038620246, 'queue_time': 0.160497784, 'total_time': 0.12225661}, 'model_name': 'gemma2-9b-it', 'system_fingerprint': 'fp_10c08bf97d', 'finish_reason': 'tool_calls', 'logprobs': None}, id='run-6837616e-b167-41e5-ba3c-ee2007faf2fe-0', tool_calls=[{'name': 'sql_db_schema', 'args': {'table_names': 'cars'}, 'id': 'call_2xer', 'type': 'tool_call'}], usage_metadata={'input_tokens': 1110, 'output_tokens': 46, 'total_tokens': 1156})]}}\n",
      "{'get_schema_tool': {'messages': [ToolMessage(content='\\nCREATE TABLE cars (\\n\\t\"index\" BIGINT, \\n\\t\"Car_Name\" TEXT, \\n\\t\"Manufacturer\" TEXT, \\n\\t\"Launch_Year\" BIGINT, \\n\\t\"Description\" TEXT, \\n\\t\"Engine_Specifications\" TEXT, \\n\\t\"Other_Specifications\" TEXT, \\n\\t\"User_Ratings\" FLOAT, \\n\\t\"NCAP_Global_Rating\" BIGINT\\n)\\n\\n/*\\n3 rows from cars table:\\nindex\\tCar_Name\\tManufacturer\\tLaunch_Year\\tDescription\\tEngine_Specifications\\tOther_Specifications\\tUser_Ratings\\tNCAP_Global_Rating\\n0\\tOffDecision12\\tRoss PLC\\t2017\\tExperience the fusion of style and performance with the OffDecision12 from Ross PLC. This elegant co\\tI6, 253 HP, 1520cc\\tSUV, 10 km/l, 203 km/h top speed\\t2.5\\t4\\n1\\tExistGround23\\tRoss PLC\\t2017\\tThe ExistGround23 by Ross PLC is a luxurious and agile minivan. It features intuitive user interface\\tElectric, 281 HP, 4515cc\\tSUV, 15 km/l, 238 km/h top speed\\t2.1\\t1\\n2\\tSometimesHerself24\\tRoss PLC\\t2021\\tThe SometimesHerself24 by Ross PLC is a efficient and robust coupe. It features unmatched reliabilit\\tV8, 367 HP, 2351cc\\tCoupe, 15 km/l, 219 km/h top speed\\t5.0\\t1\\n*/', name='sql_db_schema', id='45f2db1b-ce1b-4d71-8084-f547f2740c02', tool_call_id='call_2xer')]}}\n",
      "-------- Query Gen / SubmitFinalAnswer -------------\n",
      " ---- Verify Query ------\n",
      "{'query_gen': {'messages': [AIMessage(content='SELECT MAX(\"top speed\") FROM cars; \\n', additional_kwargs={}, response_metadata={'token_usage': {'completion_tokens': 13, 'prompt_tokens': 1786, 'total_tokens': 1799, 'completion_time': 0.023636364, 'prompt_time': 0.076144254, 'queue_time': 0.159942733, 'total_time': 0.099780618}, 'model_name': 'gemma2-9b-it', 'system_fingerprint': 'fp_10c08bf97d', 'finish_reason': 'stop', 'logprobs': None}, id='run-c1bcb342-c6a9-4366-a246-363320c0a0bd-0', usage_metadata={'input_tokens': 1786, 'output_tokens': 13, 'total_tokens': 1799})]}}\n",
      " ------- Inside model_check_query ----- \n",
      "{'model_check_query': {'messages': [AIMessage(content='', additional_kwargs={'tool_calls': [{'id': 'call_d4m3', 'function': {'arguments': '{\"query\":\"SELECT MAX(\\\\\"top speed\\\\\") FROM cars;\"}', 'name': 'db_query_tool'}, 'type': 'function'}]}, response_metadata={'token_usage': {'completion_tokens': 92, 'prompt_tokens': 1023, 'total_tokens': 1115, 'completion_time': 0.167272727, 'prompt_time': 0.035802451, 'queue_time': 0.15935510400000003, 'total_time': 0.203075178}, 'model_name': 'gemma2-9b-it', 'system_fingerprint': 'fp_10c08bf97d', 'finish_reason': 'tool_calls', 'logprobs': None}, id='run-83eed5e8-0b51-4392-b89f-1dff016989b3-0', tool_calls=[{'name': 'db_query_tool', 'args': {'query': 'SELECT MAX(\"top speed\") FROM cars;'}, 'id': 'call_d4m3', 'type': 'tool_call'}], usage_metadata={'input_tokens': 1023, 'output_tokens': 92, 'total_tokens': 1115})]}}\n",
      "{'execute_query': {'messages': [ToolMessage(content=\"[('top speed',)]\", name='db_query_tool', id='d4b4c0cf-6f28-4403-b800-11acda0a81b7', tool_call_id='call_d4m3')]}}\n",
      "-------- Query Gen / SubmitFinalAnswer -------------\n",
      " ---- Ending the graph --------\n",
      "{'query_gen': {'messages': [AIMessage(content='', additional_kwargs={'tool_calls': [{'id': 'call_6dx9', 'function': {'arguments': '{\"final_answer\":\"238 km/h\"}', 'name': 'SubmitFinalAnswer'}, 'type': 'function'}]}, response_metadata={'token_usage': {'completion_tokens': 53, 'prompt_tokens': 1896, 'total_tokens': 1949, 'completion_time': 0.096363636, 'prompt_time': 0.064689773, 'queue_time': 0.16148807199999998, 'total_time': 0.161053409}, 'model_name': 'gemma2-9b-it', 'system_fingerprint': 'fp_10c08bf97d', 'finish_reason': 'tool_calls', 'logprobs': None}, id='run-2111b1f8-c4eb-4eec-95e8-749465dbaea4-0', tool_calls=[{'name': 'SubmitFinalAnswer', 'args': {'final_answer': '238 km/h'}, 'id': 'call_6dx9', 'type': 'tool_call'}], usage_metadata={'input_tokens': 1896, 'output_tokens': 53, 'total_tokens': 1949})]}}\n"
     ]
    }
   ],
   "execution_count": 40
  },
  {
   "metadata": {},
   "cell_type": "markdown",
   "source": "- Final answer given by agent is \"**238 km/h**\"",
   "id": "1338a8f27ff5175c"
  },
  {
   "metadata": {},
   "cell_type": "markdown",
   "source": "### Query to Math agent",
   "id": "7f2190eecfaeb032"
  },
  {
   "metadata": {
    "ExecuteTime": {
     "end_time": "2025-03-30T15:37:10.126817Z",
     "start_time": "2025-03-30T15:37:08.605815Z"
    }
   },
   "cell_type": "code",
   "source": [
    "question = \"What is the probaility of tossing a coin?\"\n",
    "print(invoke_query(question))"
   ],
   "id": "24029267039bb71a",
   "outputs": [
    {
     "name": "stdout",
     "output_type": "stream",
     "text": [
      "---ROUTE QUESTION---\n",
      "--------- MATH AGENT ------\n",
      "-------- ROUTE MATH ASSISTANT ----------\n",
      "The probability of tossing a coin is 1/2 or 50%. \n",
      "\n"
     ]
    }
   ],
   "execution_count": 30
  },
  {
   "metadata": {},
   "cell_type": "markdown",
   "source": "### Query not related to any provided data",
   "id": "fd63a9f5508acf05"
  },
  {
   "metadata": {
    "ExecuteTime": {
     "end_time": "2025-03-30T15:36:22.493724Z",
     "start_time": "2025-03-30T15:36:21.865449Z"
    }
   },
   "cell_type": "code",
   "source": [
    "question = \"Do you know Psychology?\"\n",
    "print(invoke_query(question))"
   ],
   "id": "36722a819a1b5bf5",
   "outputs": [
    {
     "name": "stdout",
     "output_type": "stream",
     "text": [
      "---ROUTE QUESTION---\n",
      "--------- END the graph --------\n",
      "The system can't provide answer to this question.\n"
     ]
    }
   ],
   "execution_count": 26
  }
 ],
 "metadata": {
  "kernelspec": {
   "display_name": "Python 3",
   "language": "python",
   "name": "python3"
  },
  "language_info": {
   "codemirror_mode": {
    "name": "ipython",
    "version": 2
   },
   "file_extension": ".py",
   "mimetype": "text/x-python",
   "name": "python",
   "nbconvert_exporter": "python",
   "pygments_lexer": "ipython2",
   "version": "2.7.6"
  }
 },
 "nbformat": 4,
 "nbformat_minor": 5
}
